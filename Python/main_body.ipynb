{
 "cells": [
  {
   "cell_type": "code",
   "execution_count": 10,
   "metadata": {},
   "outputs": [],
   "source": [
    "import numpy as np\n",
    "import scipy\n",
    "import matplotlib.pyplot as plt\n",
    "import pandas as pd\n",
    "import scipy.io\n",
    "file_loc = \"../Matlab/EERdatabase.xlsx\""
   ]
  },
  {
   "cell_type": "code",
   "execution_count": 62,
   "metadata": {},
   "outputs": [],
   "source": [
    "# basically after they read in the file they do some calculation and turn them\n",
    "# into a file call data_vars.mat\n",
    "# \n",
    "\n",
    "# replicates the reading phase\n",
    "\n",
    "# read in the files\n",
    "cpi = pd.read_excel(file_loc, sheet_name=\"cpi\",engine=\"openpyxl\") \n",
    "\n",
    "USD = pd.read_excel(file_loc, sheet_name=\"ner_eop\",engine=\"openpyxl\") \n",
    "\n",
    "gdp = pd.read_excel(file_loc, sheet_name=\"gdppc_ppp\",engine=\"openpyxl\") \n",
    "\n",
    "nfa = pd.read_excel(file_loc, sheet_name=\"nfa2gdp\",engine=\"openpyxl\") \n",
    "\n",
    "tot = pd.read_excel(file_loc, sheet_name=\"tot_all\",engine=\"openpyxl\") \n",
    "\n",
    "weights = pd.read_excel(file_loc, sheet_name=\"weights_static\",engine=\"openpyxl\") \n",
    "\n",
    "# pre cleaning / define some variables that would be useful\n",
    "time_line = cpi.iloc[:,0]\n",
    "countries = list(cpi.columns)[1:]\n",
    "\n",
    "# the first columns is always time, we DO NOT need them in the calculation\n",
    "cpi = cpi.iloc[:,1:].to_numpy()\n",
    "gdp = gdp.iloc[:,1:].to_numpy()\n",
    "USD = USD.iloc[:,1:].to_numpy()\n",
    "nfa = nfa.iloc[:,1:].to_numpy()\n",
    "tot = tot.iloc[:,1:].to_numpy()\n",
    "\n",
    "# weights\n",
    "\n",
    "# following their reindexing into alphabetic order\n",
    "weights.columns = [\"country\", \n",
    "\"time\", \n",
    "\"USA\", \n",
    "\"GBR\", \n",
    "\"DNK\",\n",
    "\"NOR\",\n",
    "\"SWE\", \n",
    "\"CHE\",\n",
    "\"CAN\",\n",
    "\"JPN\",\n",
    "\"EA\",\n",
    "\"AUS\",\n",
    "\"NZL\"]\n",
    "weights.set_index(\"country\", inplace=True)\n",
    "weights = weights.reindex(index=sorted(weights.index), columns=sorted(weights.columns))\n",
    "# they fill the na with 0 for weights\n",
    "weights = weights.fillna(0)\n",
    "weights.drop(columns=\"time\", inplace=True)\n",
    "weights = weights.to_numpy()\n",
    "\n",
    "\n",
    "# calculations below \n",
    "\n",
    "# log of relative CPI\n",
    "rpi = np.log(cpi)- np.log(cpi)@weights\n",
    "#  log of USD rate (increase stands for appreciation of dom. currency)\n",
    "ner = np.log(USD)@weights - np.log(USD)\n",
    "# log of USD real rate (increase stands for appreciation)\n",
    "rer = ner + rpi\n",
    "\n",
    "# log of relative gdp per capita\n",
    "rgdp = np.log(gdp) - np.log(gdp)@weights\n",
    "\n",
    "# log of relative terms of trade\n",
    "\n",
    "rtot = np.log(tot) - np.log(tot)@weights\n",
    "\n",
    "# relative nfa (choose which one)\n",
    "rnfa = nfa-nfa@weights\n",
    "\n",
    "\n",
    "### in the original code they get rid of denmark \n",
    "rpi = np.delete(rpi ,3,1)  \n",
    "ner = np.delete(ner,3,1)  \n",
    "rer = np.delete(rer,3,1) \n",
    "rgdp = np.delete(rgdp,3,1) \n",
    "rtot = np.delete(rtot,3,1) \n",
    "rnfa = np.delete(rnfa, 3,1)\n",
    "countries.remove(\"DNK\")\n"
   ]
  },
  {
   "cell_type": "code",
   "execution_count": 63,
   "metadata": {},
   "outputs": [],
   "source": [
    "\n"
   ]
  },
  {
   "cell_type": "code",
   "execution_count": 60,
   "metadata": {},
   "outputs": [
    {
     "data": {
      "text/plain": [
       "array([[-1.03271253e-01, -3.07397836e-01,  6.01441784e-01, ...,\n",
       "        -7.69705652e-02,  9.93912154e-03,  9.40729426e-02],\n",
       "       [-1.13219324e-01, -3.12049083e-01,  6.25742343e-01, ...,\n",
       "        -9.20247265e-02,  5.82297630e-03,  9.64138653e-02],\n",
       "       [-1.27240753e-01, -3.16605058e-01,  6.44065588e-01, ...,\n",
       "        -1.02491571e-01,  1.35362527e-03,  9.83187859e-02],\n",
       "       ...,\n",
       "       [-5.43782102e-01,  5.29893251e-01,  1.49333733e+00, ...,\n",
       "        -4.10179039e-01, -3.28745624e-02, -6.74689751e-01],\n",
       "       [-5.15658713e-01,  6.04556025e-01,  1.44121089e+00, ...,\n",
       "        -4.06848535e-01, -6.51378048e-02, -7.26275910e-01],\n",
       "       [-5.24849842e-01,  5.43937032e-01,  1.53743726e+00, ...,\n",
       "        -4.50463664e-01, -8.94914139e-02, -7.18775474e-01]])"
      ]
     },
     "execution_count": 60,
     "metadata": {},
     "output_type": "execute_result"
    }
   ],
   "source": []
  }
 ],
 "metadata": {
  "interpreter": {
   "hash": "97ae724bfa85b9b34df7982b8bb8c7216f435b92902d749e4263f71162bea840"
  },
  "kernelspec": {
   "display_name": "Python 3.7.7 ('base')",
   "language": "python",
   "name": "python3"
  },
  "language_info": {
   "codemirror_mode": {
    "name": "ipython",
    "version": 3
   },
   "file_extension": ".py",
   "mimetype": "text/x-python",
   "name": "python",
   "nbconvert_exporter": "python",
   "pygments_lexer": "ipython3",
   "version": "3.7.7"
  },
  "orig_nbformat": 4
 },
 "nbformat": 4,
 "nbformat_minor": 2
}
